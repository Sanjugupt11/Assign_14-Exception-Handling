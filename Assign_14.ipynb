{
 "cells": [
  {
   "cell_type": "code",
   "execution_count": 1,
   "id": "cdd4130d-ae4c-4461-810d-2c3655b3e2b8",
   "metadata": {},
   "outputs": [
    {
     "ename": "SyntaxError",
     "evalue": "invalid syntax (2809194925.py, line 2)",
     "output_type": "error",
     "traceback": [
      "\u001b[0;36m  Cell \u001b[0;32mIn[1], line 2\u001b[0;36m\u001b[0m\n\u001b[0;31m    Having custom exceptions - tailored to your specific use cases and that you can raise and catch in specific\u001b[0m\n\u001b[0m           ^\u001b[0m\n\u001b[0;31mSyntaxError\u001b[0m\u001b[0;31m:\u001b[0m invalid syntax\n"
     ]
    }
   ],
   "source": [
    "#Q1. Explain why we have to use the Exception class while creating a Custom Exception.\n",
    "Having custom exceptions - tailored to your specific use cases and that you can raise and catch in specific\n",
    "circumstances - can make your code much more readable and robust, and reduce the amount of code you write later to\n",
    "try and figure out what exactly went wrong."
   ]
  },
  {
   "cell_type": "code",
   "execution_count": 4,
   "id": "1f50f0ae-7fee-4104-9806-794cb818c2b9",
   "metadata": {},
   "outputs": [
    {
     "ename": "IndentationError",
     "evalue": "expected an indented block after function definition on line 5 (1104829890.py, line 6)",
     "output_type": "error",
     "traceback": [
      "\u001b[0;36m  Cell \u001b[0;32mIn[4], line 6\u001b[0;36m\u001b[0m\n\u001b[0;31m    print ('.' * indent, cls.__name__)\u001b[0m\n\u001b[0m    ^\u001b[0m\n\u001b[0;31mIndentationError\u001b[0m\u001b[0;31m:\u001b[0m expected an indented block after function definition on line 5\n"
     ]
    }
   ],
   "source": [
    "#Q2. Write a python program to print Python Exception Hierarchy.\n",
    "import inspect\n",
    "print (\"The class hierarchy for built-in exceptions is:\")\n",
    "inspect.getclasstree(inspect.getmro(BaseException))\n",
    "def classtree(cls, indent=0):\n",
    "print ('.' * indent, cls.__name__)\n",
    "for subcls in cls.__subclasses__():\n",
    "classtree(subcls, indent + 3)\n",
    "classtree(BaseException)"
   ]
  },
  {
   "cell_type": "code",
   "execution_count": null,
   "id": "19b14312-3154-4835-afee-7c2769a98df5",
   "metadata": {},
   "outputs": [],
   "source": [
    "Q3. What errors are defined in the ArithmeticError class? Explain any two with an example.\n",
    "The ArithmeticError Exception is the base class for all errors associated with arithmetic operation.\n",
    "\n",
    "ArithmeticError\n",
    "--> ZeroDivisionError\n",
    "--> OverflowError\n",
    "--> FloatingPointError\n",
    "\n",
    "try:\n",
    "    1/0\n",
    "except ArithmeticError as e:\n",
    "    print(f\"{e}, {e.__class__}\")"
   ]
  },
  {
   "cell_type": "code",
   "execution_count": null,
   "id": "0005d842-9f2f-46ef-a446-7b2783fadacd",
   "metadata": {},
   "outputs": [],
   "source": [
    "Handling OverflowError\n",
    "\n",
    "\n",
    "j = 5.0\n",
    "\n",
    "try:\n",
    "    for i in range(1, 1000):\n",
    "        j = j**i\n",
    "except ArithmeticError as e:\n",
    "    print(f\"{e}, {e.__class__}\")"
   ]
  },
  {
   "cell_type": "code",
   "execution_count": null,
   "id": "2c6d559e-b681-4860-a980-db1df3c29f2d",
   "metadata": {},
   "outputs": [],
   "source": [
    "Q4. Why LookupError class is used? Explain with an example KeyError and IndexError.\n",
    "\n",
    "Answer: The LookupError exception in Python forms the base class for all exceptions that are raised when an index \n",
    "or a key is not found for a sequence or dictionary respectively. You can use LookupError exception class to handle\n",
    "both IndexError and KeyError exception classes."
   ]
  },
  {
   "cell_type": "code",
   "execution_count": 2,
   "id": "4b61f907-fb05-414e-a4b1-8c2cd0c5fd3e",
   "metadata": {},
   "outputs": [
    {
     "name": "stdin",
     "output_type": "stream",
     "text": [
      "Get age for:  44\n"
     ]
    },
    {
     "name": "stdout",
     "output_type": "stream",
     "text": [
      "44's age is unknown.\n"
     ]
    }
   ],
   "source": [
    "ages = {'Jim': 30, 'Pam': 28, 'Kevin': 33}\n",
    "person = input('Get age for: ')\n",
    "\n",
    "try:\n",
    "    print(f'{person} is {ages[person]} years old.')\n",
    "except KeyError:\n",
    "    print(f\"{person}'s age is unknown.\")"
   ]
  },
  {
   "cell_type": "code",
   "execution_count": 3,
   "id": "84a4ebd8-386f-447a-a670-8a34344de1e6",
   "metadata": {},
   "outputs": [
    {
     "name": "stdout",
     "output_type": "stream",
     "text": [
      "The list is: [1, 2, 3, 4, 5, 6, 7, 8, 9, 10]\n"
     ]
    },
    {
     "ename": "IndexError",
     "evalue": "list index out of range",
     "output_type": "error",
     "traceback": [
      "\u001b[0;31m---------------------------------------------------------------------------\u001b[0m",
      "\u001b[0;31mIndexError\u001b[0m                                Traceback (most recent call last)",
      "Cell \u001b[0;32mIn[3], line 4\u001b[0m\n\u001b[1;32m      2\u001b[0m \u001b[38;5;28mprint\u001b[39m(\u001b[38;5;124m\"\u001b[39m\u001b[38;5;124mThe list is:\u001b[39m\u001b[38;5;124m\"\u001b[39m, myList)\n\u001b[1;32m      3\u001b[0m index \u001b[38;5;241m=\u001b[39m \u001b[38;5;241m10\u001b[39m\n\u001b[0;32m----> 4\u001b[0m element \u001b[38;5;241m=\u001b[39m \u001b[43mmyList\u001b[49m\u001b[43m[\u001b[49m\u001b[43mindex\u001b[49m\u001b[43m]\u001b[49m\n\u001b[1;32m      5\u001b[0m \u001b[38;5;28mprint\u001b[39m(\u001b[38;5;124m\"\u001b[39m\u001b[38;5;124mElement at index \u001b[39m\u001b[38;5;132;01m{}\u001b[39;00m\u001b[38;5;124m is \u001b[39m\u001b[38;5;132;01m{}\u001b[39;00m\u001b[38;5;124m\"\u001b[39m\u001b[38;5;241m.\u001b[39mformat(index,element))\n",
      "\u001b[0;31mIndexError\u001b[0m: list index out of range"
     ]
    }
   ],
   "source": [
    "myList = [1, 2, 3, 4, 5, 6, 7, 8, 9, 10]\n",
    "print(\"The list is:\", myList)\n",
    "index = 10\n",
    "element = myList[index]\n",
    "print(\"Element at index {} is {}\".format(index,element))"
   ]
  },
  {
   "cell_type": "code",
   "execution_count": null,
   "id": "6322ccad-1667-481a-bbe2-2393c0900366",
   "metadata": {},
   "outputs": [],
   "source": [
    "Q5. Explain ImportError. What is ModuleNotFoundError?\n",
    "Answer:In Python, ImportError occurs when the Python program tries to import module which does not exist in the \n",
    "private table. This exception can be avoided using exception handling using try and except blocks. We also saw \n",
    "examples of how the ImportError occurs and how it is handled.\n",
    "this error occurs when you re trying to access or use a module that cannot be found. In the case of the title, the \n",
    "\"module named Python\" cannot be found. Python here can be any module."
   ]
  },
  {
   "cell_type": "code",
   "execution_count": null,
   "id": "b45421f6-d061-4937-abd7-0c66becbf5a8",
   "metadata": {},
   "outputs": [],
   "source": [
    "Q6. List down some best practices for exception handling in python.\n",
    "Answer:\n",
    "    AttributeError\n",
    "    indexerror\n",
    "    zerodivvsionerror\n",
    "    modulenotfounderror\n",
    "    keyerror"
   ]
  }
 ],
 "metadata": {
  "kernelspec": {
   "display_name": "Python 3 (ipykernel)",
   "language": "python",
   "name": "python3"
  },
  "language_info": {
   "codemirror_mode": {
    "name": "ipython",
    "version": 3
   },
   "file_extension": ".py",
   "mimetype": "text/x-python",
   "name": "python",
   "nbconvert_exporter": "python",
   "pygments_lexer": "ipython3",
   "version": "3.10.8"
  }
 },
 "nbformat": 4,
 "nbformat_minor": 5
}
